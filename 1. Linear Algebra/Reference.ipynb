{
 "cells": [
  {
   "cell_type": "markdown",
   "metadata": {},
   "source": [
    "1. Numpy| Linear algebra using Numpy\n",
    "https://numpy.org/doc/stable/reference/routines.linalg.html\n",
    "\n",
    "2. G4G | Numpy | Linear Algebra: https://www.geeksforgeeks.org/numpy-linear-algebra/\n",
    "\n",
    "3. Programiz | Numpy Linear Algebra: https://www.programiz.com/python-programming/numpy/linear-algebra"
   ]
  },
  {
   "cell_type": "markdown",
   "metadata": {},
   "source": []
  }
 ],
 "metadata": {
  "language_info": {
   "name": "python"
  }
 },
 "nbformat": 4,
 "nbformat_minor": 2
}
