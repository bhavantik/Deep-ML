{
 "cells": [
  {
   "cell_type": "markdown",
   "metadata": {},
   "source": [
    "# 15. Vector Element-wise Sum\n",
    "- Deep-ML: https://www.deep-ml.com/problems/121"
   ]
  },
  {
   "cell_type": "markdown",
   "metadata": {},
   "source": [
    "## Problem statement\n",
    "\n",
    "- Write a Python function that computes the element-wise sum of two vectors. The function should return a new vector representing the resulting sum if the operation is valid, or -1 if the vectors have incompatible dimensions. Two vectors (lists) can be summed element-wise only if they are of the same length.\n",
    "\n",
    "### 🧮 Example\n",
    "\n",
    "**Input:**\n",
    "```\n",
    "a = [1, 3], b = [4, 5]\n",
    "```\n",
    "\n",
    "**Output:**\n",
    "```\n",
    "[5, 8]\n",
    "```\n",
    "\n",
    "**Reasoning:**\n",
    "- Element-wise sum: [1+4, 3+5] = [5, 8]."
   ]
  },
  {
   "cell_type": "markdown",
   "metadata": {},
   "source": [
    "## Learn the about the topic\n",
    "Below is the text formatted for Jupyter Notebook markdown, ensuring that all formulas are clearly visible using LaTeX:\n",
    "\n",
    "```markdown\n",
    "# Understanding Vector Element-wise Sum\n",
    "\n",
    "In linear algebra, the element-wise sum (also known as vector addition) involves adding corresponding entries of two vectors.\n",
    "\n",
    "## Vector Notation\n",
    "\n",
    "Given two vectors \\(\\mathbf{a}\\) and \\(\\mathbf{b}\\) of the same dimension \\(n\\):\n",
    "\n",
    "\\[\n",
    "\\mathbf{a} = \\begin{pmatrix} a_1 \\\\ a_2 \\\\ \\vdots \\\\ a_n \\end{pmatrix}, \\quad \\mathbf{b} = \\begin{pmatrix} b_1 \\\\ b_2 \\\\ \\vdots \\\\ b_n \\end{pmatrix}\n",
    "\\]\n",
    "\n",
    "The element-wise sum is defined as:\n",
    "\n",
    "\\[\n",
    "\\mathbf{a} + \\mathbf{b} = \\begin{pmatrix} a_1 + b_1 \\\\ a_2 + b_2 \\\\ \\vdots \\\\ a_n + b_n \\end{pmatrix}\n",
    "\\]\n",
    "\n",
    "## Key Requirement\n",
    "\n",
    "Vectors \\(\\mathbf{a}\\) and \\(\\mathbf{b}\\) must be of the same length \\(n\\) for the operation to be valid. If their lengths differ, element-wise addition is not defined.\n",
    "\n",
    "## Example\n",
    "\n",
    "Let:\n",
    "\n",
    "\\[\n",
    "\\mathbf{a} = [1, 2, 3], \\quad \\mathbf{b} = [4, 5, 6]\n",
    "\\]\n",
    "\n",
    "Then:\n",
    "\n",
    "\\[\n",
    "\\mathbf{a} + \\mathbf{b} = [1+4, 2+5, 3+6] = [5, 7, 9]\n",
    "\\]\n",
    "\n",
    "This simple operation is foundational in many applications such as vector arithmetic, neural network computations, and linear transformations.\n",
    "```\n",
    "\n",
    "This format uses LaTeX syntax for mathematical formulas, ensuring that all mathematical expressions are clearly visible and well-formatted in Jupyter Notebook markdown."
   ]
  },
  {
   "cell_type": "markdown",
   "metadata": {},
   "source": [
    "## Solution"
   ]
  },
  {
   "cell_type": "code",
   "execution_count": 7,
   "metadata": {},
   "outputs": [
    {
     "name": "stdout",
     "output_type": "stream",
     "text": [
      "[5 8]\n"
     ]
    }
   ],
   "source": [
    "import numpy as np\n",
    "def vector_sum(a: list[int|float], b: list[int|float]) -> list[int|float]:\n",
    "\t# Return the element-wise sum of vectors 'a' and 'b'.\n",
    "\t# If vectors have different lengths, return -1.\n",
    "\ta = np.array(a)\n",
    "\tb = np.array(b)\n",
    "\tif a.shape != b.shape:\n",
    "\t\treturn -1\n",
    "\t\n",
    "\treturn a+b\n",
    "\n",
    "a = [1, 3]\n",
    "b = [4, 5]\n",
    "\n",
    "print(vector_sum(a,b))"
   ]
  },
  {
   "cell_type": "markdown",
   "metadata": {},
   "source": [
    "### OR without numpy"
   ]
  },
  {
   "cell_type": "code",
   "execution_count": 8,
   "metadata": {},
   "outputs": [
    {
     "name": "stdout",
     "output_type": "stream",
     "text": [
      "Element-wise Sum: [5, 7, 9]\n"
     ]
    }
   ],
   "source": [
    "def elementwise_sum(vector_a, vector_b):\n",
    "    \"\"\"\n",
    "    Compute the element-wise sum of two vectors.\n",
    "\n",
    "    Parameters:\n",
    "    vector_a: list\n",
    "    vector_b: list\n",
    "\n",
    "    Returns:\n",
    "    list: Element-wise sum of vector_a and vector_b\n",
    "    \"\"\"\n",
    "    # Ensure the vectors have the same dimensions\n",
    "    if len(vector_a) != len(vector_b):\n",
    "        raise ValueError(\"Vectors must be the same dimensions\")\n",
    "\n",
    "    # Compute the element-wise sum using list comprehension\n",
    "    return [a + b for a, b in zip(vector_a, vector_b)]\n",
    "\n",
    "# Example usage\n",
    "vector_a = [1, 2, 3]\n",
    "vector_b = [4, 5, 6]\n",
    "\n",
    "result = elementwise_sum(vector_a, vector_b)\n",
    "print(f\"Element-wise Sum: {result}\")"
   ]
  },
  {
   "cell_type": "markdown",
   "metadata": {},
   "source": [
    "## QnA"
   ]
  },
  {
   "cell_type": "markdown",
   "metadata": {},
   "source": []
  },
  {
   "cell_type": "markdown",
   "metadata": {},
   "source": []
  }
 ],
 "metadata": {
  "kernelspec": {
   "display_name": "base",
   "language": "python",
   "name": "python3"
  },
  "language_info": {
   "codemirror_mode": {
    "name": "ipython",
    "version": 3
   },
   "file_extension": ".py",
   "mimetype": "text/x-python",
   "name": "python",
   "nbconvert_exporter": "python",
   "pygments_lexer": "ipython3",
   "version": "3.12.4"
  }
 },
 "nbformat": 4,
 "nbformat_minor": 2
}
