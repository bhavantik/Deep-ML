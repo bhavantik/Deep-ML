{
 "cells": [
  {
   "cell_type": "markdown",
   "metadata": {},
   "source": [
    "# 12. Dot Product Calculator\n",
    "- Deep-ML: https://www.deep-ml.com/problems/83"
   ]
  },
  {
   "cell_type": "markdown",
   "metadata": {},
   "source": [
    "## Problem statement\n",
    "\n",
    "- Write a Python function to calculate the dot product of two vectors. The function should take two 1D NumPy arrays as input and return the dot product as a single number.\n",
    "\n",
    "### 🧮 Example\n",
    "\n",
    "**Input:**\n",
    "```\n",
    "vec1 = np.array([1, 2, 3]), vec2 = np.array([4, 5, 6])\n",
    "```\n",
    "\n",
    "**Output:**\n",
    "```\n",
    "32\n",
    "```\n",
    "\n",
    "**Reasoning:**\n",
    "- The function calculates the dot product by multiplying corresponding elements of the two vectors and summing the results. For vec1 = [1, 2, 3] and vec2 = [4, 5, 6], the result is (1 * 4) + (2 * 5) + (3 * 6) = 32."
   ]
  },
  {
   "cell_type": "markdown",
   "metadata": {},
   "source": [
    "## Learn the about the topic\n",
    "\n",
    "Certainly! Below is the text formatted for clear visibility of formulas, suitable for Jupyter Notebook markdown:\n",
    "\n",
    "```markdown\n",
    "# Calculating the Dot Product of Two Vectors\n",
    "\n",
    "The dot product, also known as the scalar product, is a mathematical operation that takes two equal-length vectors and returns a single number. It is widely used in physics, geometry, and linear algebra.\n",
    "\n",
    "## 1. Formula for the Dot Product\n",
    "\n",
    "The dot product of two vectors **a** and **b**, each of length **n**, is calculated as follows:\n",
    "\n",
    "\\[\n",
    "a \\cdot b = \\sum_{i=1}^{n} a_i b_i\n",
    "\\]\n",
    "\n",
    "This means multiplying corresponding elements of the two vectors and summing up the results.\n",
    "\n",
    "## 2. Geometric Interpretation\n",
    "\n",
    "In geometric terms, the dot product can also be expressed as:\n",
    "\n",
    "\\[\n",
    "a \\cdot b = |a| |b| \\cos \\theta\n",
    "\\]\n",
    "\n",
    "Where:\n",
    "\n",
    "- \\(|a|\\) and \\(|b|\\) are the magnitudes of the vectors.\n",
    "- \\(\\theta\\) is the angle between the two vectors.\n",
    "\n",
    "## 3. Properties of the Dot Product\n",
    "\n",
    "### Commutative:\n",
    "\n",
    "\\[\n",
    "a \\cdot b = b \\cdot a\n",
    "\\]\n",
    "\n",
    "### Distributive:\n",
    "\n",
    "\\[\n",
    "a \\cdot (b + c) = a \\cdot b + a \\cdot c\n",
    "\\]\n",
    "\n",
    "### Orthogonal Vectors:\n",
    "\n",
    "If:\n",
    "\n",
    "\\[\n",
    "a \\cdot b = 0\n",
    "\\]\n",
    "\n",
    "Then **a** and **b** are perpendicular.\n",
    "\n",
    "## 4. Example Calculation\n",
    "\n",
    "Given two vectors:\n",
    "\n",
    "\\[\n",
    "a = [1, 2, 3]\n",
    "\\]\n",
    "\n",
    "\\[\n",
    "b = [4, 5, 6]\n",
    "\\]\n",
    "\n",
    "The dot product is calculated as:\n",
    "\n",
    "\\[\n",
    "a \\cdot b = (1 \\cdot 4) + (2 \\cdot 5) + (3 \\cdot 6) = 4 + 10 + 18 = 32\n",
    "\\]\n",
    "\n",
    "## Conclusion\n",
    "\n",
    "The dot product is a fundamental operation in vector algebra, useful in determining angles between vectors, projections, and in many applications across physics and engineering.\n",
    "```\n",
    "\n",
    "This format uses LaTeX syntax for mathematical formulas, which Jupyter Notebook markdown supports, ensuring that all mathematical expressions are clearly visible and well-formatted."
   ]
  },
  {
   "cell_type": "markdown",
   "metadata": {},
   "source": [
    "## Solution"
   ]
  },
  {
   "cell_type": "code",
   "execution_count": 6,
   "metadata": {},
   "outputs": [
    {
     "name": "stdout",
     "output_type": "stream",
     "text": [
      "32\n"
     ]
    }
   ],
   "source": [
    "import numpy as np\n",
    "\n",
    "def calculate_dot_product(vec1, vec2) -> float:\n",
    "\t\"\"\"\n",
    "\tCalculate the dot product of two vectors.\n",
    "\tArgs:\n",
    "\t\tvec1 (numpy.ndarray): 1D array representing the first vector.\n",
    "\t\tvec2 (numpy.ndarray): 1D array representing the second vector.\n",
    "\t\"\"\"\n",
    "\tif vec1.shape != vec2.shape:\n",
    "\t\treturn None\n",
    "\treturn np.dot(vec1,vec2)\n",
    "\t\n",
    "vec1 = np.array([1, 2, 3])\n",
    "vec2 = np.array([4, 5, 6])\n",
    "\n",
    "print(calculate_dot_product(vec1, vec2))"
   ]
  },
  {
   "cell_type": "markdown",
   "metadata": {},
   "source": [
    "## QnA"
   ]
  },
  {
   "cell_type": "markdown",
   "metadata": {},
   "source": []
  }
 ],
 "metadata": {
  "kernelspec": {
   "display_name": "base",
   "language": "python",
   "name": "python3"
  },
  "language_info": {
   "codemirror_mode": {
    "name": "ipython",
    "version": 3
   },
   "file_extension": ".py",
   "mimetype": "text/x-python",
   "name": "python",
   "nbconvert_exporter": "python",
   "pygments_lexer": "ipython3",
   "version": "3.12.4"
  }
 },
 "nbformat": 4,
 "nbformat_minor": 2
}
