{
 "cells": [
  {
   "cell_type": "markdown",
   "metadata": {},
   "source": [
    "# 7. Transformation Matrix from Basis B to C\n",
    "- Deep-ML: https://www.deep-ml.com/problems/35"
   ]
  },
  {
   "cell_type": "markdown",
   "metadata": {},
   "source": [
    "## Problem statement\n",
    "\n",
    "- Write a Python function to convert a 1D numpy array into a diagonal matrix. The function should take in a 1D numpy array x and return a 2D numpy array representing the diagonal matrix.\n",
    "\n",
    "### 🧮 Example\n",
    "\n",
    "**Input:**\n",
    "```\n",
    "x = np.array([1, 2, 3])\n",
    "output = make_diagonal(x)\n",
    "print(output)\n",
    "```\n",
    "\n",
    "**Output:**\n",
    "```\n",
    "[[1. 0. 0.]\n",
    "[0. 2. 0.]\n",
    "[0. 0. 3.]]\n",
    "```\n",
    "\n",
    "**Reasoning:**\n",
    "- The input vector [1, 2, 3] is converted into a diagonal matrix where the elements of the vector form the diagonal of the matrix."
   ]
  },
  {
   "cell_type": "markdown",
   "metadata": {},
   "source": [
    "## Learn the about the topic\n",
    "\n",
    "# Understanding Diagonal Matrices\n",
    "\n",
    "A **diagonal matrix** is a square matrix in which the entries outside the main diagonal are all zero.  \n",
    "The **main diagonal** is the set of entries extending from the top left to the bottom right of the matrix.\n",
    "\n",
    "---\n",
    "\n",
    "## Problem Overview\n",
    "In this problem, you will write a function to **convert a 1D NumPy array (vector) into a diagonal matrix**.  \n",
    "The resulting matrix will have the elements of the input vector on its **main diagonal**, with **zeros elsewhere**.\n",
    "\n",
    "---\n",
    "\n",
    "## Mathematical Representation\n",
    "\n",
    "markdown\n",
    "'''\n",
    "Given a vector:\n",
    "\n",
    "\\[\n",
    "x = [x_1, x_2, \\dots, x_n]\n",
    "\\]\n",
    "\n",
    "The corresponding diagonal matrix \\( D \\) is:\n",
    "\n",
    "\\[\n",
    "D = \\begin{bmatrix}\n",
    "x_1 & 0 & 0 & \\cdots & 0 \\\\\n",
    "0 & x_2 & 0 & \\cdots & 0 \\\\\n",
    "0 & 0 & x_3 & \\cdots & 0 \\\\\n",
    "\\vdots & \\vdots & \\vdots & \\ddots & \\vdots \\\\\n",
    "0 & 0 & 0 & \\cdots & x_n \\\\\n",
    "\\end{bmatrix}\n",
    "\\]\n",
    "'''\n",
    "---\n",
    "\n",
    "## Importance\n",
    "\n",
    "Diagonal matrices are important in various **mathematical** and **scientific** computations due to their **simple structure** and **useful properties**:\n",
    "\n",
    "- **Easy to compute powers** (e.g., \\( D^k \\) is simply each diagonal element raised to the \\( k \\)-th power).\n",
    "- **Fast matrix multiplication** (only the diagonal elements matter).\n",
    "- **Useful in eigenvalue problems** — especially in diagonalization processes.\n",
    "- **Appears in machine learning** for tasks like covariance matrices after PCA (Principal Component Analysis).\n"
   ]
  },
  {
   "cell_type": "code",
   "execution_count": null,
   "metadata": {},
   "outputs": [],
   "source": []
  },
  {
   "cell_type": "markdown",
   "metadata": {},
   "source": [
    "## Solution"
   ]
  },
  {
   "cell_type": "code",
   "execution_count": 1,
   "metadata": {},
   "outputs": [
    {
     "data": {
      "text/plain": [
       "array([[1, 0, 0],\n",
       "       [0, 2, 0],\n",
       "       [0, 0, 3]])"
      ]
     },
     "execution_count": 1,
     "metadata": {},
     "output_type": "execute_result"
    }
   ],
   "source": [
    "import numpy as np\n",
    "\n",
    "def make_diagonal(x):\n",
    "\treturn np.diag(x)\n",
    "\t# Your code here\n",
    "\t\n",
    "\n",
    "# Example usage:\n",
    "x = np.array([1, 2, 3])\n",
    "output = make_diagonal(x)\n",
    "output"
   ]
  },
  {
   "cell_type": "markdown",
   "metadata": {},
   "source": [
    "## QnA\n",
    "\n",
    "## 1. "
   ]
  },
  {
   "cell_type": "markdown",
   "metadata": {},
   "source": []
  }
 ],
 "metadata": {
  "kernelspec": {
   "display_name": "venv",
   "language": "python",
   "name": "python3"
  },
  "language_info": {
   "codemirror_mode": {
    "name": "ipython",
    "version": 3
   },
   "file_extension": ".py",
   "mimetype": "text/x-python",
   "name": "python",
   "nbconvert_exporter": "python",
   "pygments_lexer": "ipython3",
   "version": "3.11.11"
  }
 },
 "nbformat": 4,
 "nbformat_minor": 2
}
