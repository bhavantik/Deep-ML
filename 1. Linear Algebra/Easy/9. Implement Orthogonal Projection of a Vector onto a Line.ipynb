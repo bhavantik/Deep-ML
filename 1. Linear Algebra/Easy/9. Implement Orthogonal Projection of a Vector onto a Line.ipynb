{
 "cells": [
  {
   "cell_type": "markdown",
   "metadata": {},
   "source": [
    "# 9. Implement Orthogonal Projection of a Vector onto a Line\n",
    "- Deep-ML: https://www.deep-ml.com/problems/66"
   ]
  },
  {
   "cell_type": "markdown",
   "metadata": {},
   "source": [
    "## Problem statement\n",
    "\n",
    "---\n",
    "\n",
    "## Problem Statement\n",
    "#### Task: Compute the Orthogonal Projection of a Vector\n",
    "- Your task is to implement a function that calculates the orthogonal projection of a vector v onto another vector L. This projection results in the vector on L that is closest to v.\n",
    "\n",
    "- Write a function orthogonal_projection(v, L) that takes in two lists, v (the vector to be projected) and L (the line vector), and returns the orthogonal projection of v onto L. The function should output a list representing the projection vector rounded to three decimal places.\n",
    "## Example\n",
    "\n",
    "### Input:\n",
    "```\n",
    "v = [3, 4]\n",
    "L = [1, 0]\n",
    "print(orthogonal_projection(v, L))\n",
    "```\n",
    "\n",
    "### Output:\n",
    "```\n",
    "[3.0, 0.0]\n",
    "```\n",
    "\n",
    "---\n",
    "\n",
    "## Reasoning\n",
    "\n",
    "- The orthogonal projection of vector [3, 4] onto the line defined by [1, 0] results in the projection vector [3, 0], which lies on the line [1, 0].\n",
    "\n",
    "---\n"
   ]
  },
  {
   "cell_type": "markdown",
   "metadata": {},
   "source": [
    "## Learn the about the topic\n",
    "\n",
    "Here's the same content in **well-formatted Markdown** for direct use in your Jupyter Notebook:\n",
    "\n",
    "---\n",
    "\n",
    "## Understanding Orthogonal Projection in Vector Spaces\n",
    "\n",
    "Orthogonal projection is a fundamental concept in linear algebra, used to project one vector onto another.  \n",
    "The projection of vector **v** onto a line defined by vector **L** results in a new vector that lies on **L**, representing the **closest point to v on that line**.\n",
    "\n",
    "Think of it like this:  \n",
    "If a light were shining directly onto vector **v**, the **shadow** it casts onto line **L** is the projection.\n",
    "\n",
    "---\n",
    "\n",
    "### Mathematical Formula\n",
    "\n",
    "The **orthogonal projection** of vector **v** onto vector **L** is:\n",
    "\n",
    "\\[\n",
    "\\text{proj}_L(v) = \\frac{v \\cdot L}{L \\cdot L} \\cdot L\n",
    "\\]\n",
    "\n",
    "Where:\n",
    "\n",
    "- \\( v \\cdot L \\): Dot product between **v** and **L**\n",
    "- \\( L \\cdot L \\): Dot product of **L** with itself (i.e., \\( \\|L\\|^2 \\))\n",
    "- \\( \\text{proj}_L(v) \\): The projection of **v** onto **L**\n",
    "\n",
    "If **L** is a **unit vector** (i.e., \\( \\|L\\| = 1 \\)), the formula simplifies to:\n",
    "\n",
    "\\[\n",
    "\\text{proj}_L(v) = (v \\cdot \\hat{L}) \\cdot \\hat{L}\n",
    "\\]\n",
    "\n",
    "---\n",
    "\n",
    "### Example in 2D\n",
    "\n",
    "Let’s say:\n",
    "\n",
    "\\[\n",
    "v = \\begin{bmatrix} 2 \\\\ 3 \\end{bmatrix}, \\quad L = \\begin{bmatrix} 1 \\\\ 0 \\end{bmatrix}\n",
    "\\]\n",
    "\n",
    "This means you're projecting vector **v** onto the x-axis.\n",
    "\n",
    "Then:\n",
    "\n",
    "\\[\n",
    "\\text{proj}_L(v) = \\frac{(2 \\cdot 1 + 3 \\cdot 0)}{(1 \\cdot 1 + 0 \\cdot 0)} \\cdot \\begin{bmatrix} 1 \\\\ 0 \\end{bmatrix} = 2 \\cdot \\begin{bmatrix} 1 \\\\ 0 \\end{bmatrix} = \\begin{bmatrix} 2 \\\\ 0 \\end{bmatrix}\n",
    "\\]\n",
    "\n",
    "---\n",
    "\n",
    "## Applications of Orthogonal Projection\n",
    "\n",
    "| Field | Application |\n",
    "|:--|:--|\n",
    "| **Computer Graphics** | Used to project 3D objects onto a 2D screen for rendering scenes. |\n",
    "| **Data Science / ML** | Used in **Principal Component Analysis (PCA)** to reduce high-dimensional data by projecting onto principal axes. |\n",
    "| **Optimization** | Finding the closest point in a subspace (least squares solutions). |\n",
    "| **Signal Processing** | Decomposing signals into components orthogonal to noise. |\n",
    "\n",
    "---\n",
    "\n",
    "Let me know if you'd like a Python/Numpy implementation of this projection with a visualization!"
   ]
  },
  {
   "cell_type": "markdown",
   "metadata": {},
   "source": [
    "## Solution"
   ]
  },
  {
   "cell_type": "code",
   "execution_count": 5,
   "metadata": {},
   "outputs": [
    {
     "name": "stdout",
     "output_type": "stream",
     "text": [
      "[3. 0.]\n"
     ]
    }
   ],
   "source": [
    "import numpy as np\n",
    "\n",
    "def orthogonal_projection(v, L):\n",
    "\t\"\"\"\n",
    "\tCompute the orthogonal projection of vector v onto line L.\n",
    "\n",
    "\t:param v: The vector to be projected\n",
    "\t:param L: The line vector defining the direction of projection\n",
    "\t:return: List representing the projection of v onto L\n",
    "\t\"\"\"\n",
    "\tv = np.array(v, dtype=np.float64)\n",
    "\tL = np.array(L, dtype=np.float64)\n",
    "\tvl = np.dot(v,L)\n",
    "\tl2 = np.dot(L,L)\n",
    "\tvar = vl/l2\n",
    "\t\n",
    "\treturn var*L\n",
    "\n",
    "v = [3, 4]\n",
    "L = [1, 0]\n",
    "print(orthogonal_projection(v, L))"
   ]
  },
  {
   "cell_type": "markdown",
   "metadata": {},
   "source": [
    "## QnA\n"
   ]
  },
  {
   "cell_type": "markdown",
   "metadata": {},
   "source": [
    "\n"
   ]
  }
 ],
 "metadata": {
  "kernelspec": {
   "display_name": "venv",
   "language": "python",
   "name": "python3"
  },
  "language_info": {
   "codemirror_mode": {
    "name": "ipython",
    "version": 3
   },
   "file_extension": ".py",
   "mimetype": "text/x-python",
   "name": "python",
   "nbconvert_exporter": "python",
   "pygments_lexer": "ipython3",
   "version": "3.11.11"
  }
 },
 "nbformat": 4,
 "nbformat_minor": 2
}
