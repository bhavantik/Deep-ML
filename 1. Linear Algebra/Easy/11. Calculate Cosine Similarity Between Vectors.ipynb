{
 "cells": [
  {
   "cell_type": "markdown",
   "metadata": {},
   "source": [
    "# 11. Calculate Cosine Similarity Between Vectors\n",
    "- Deep-ML: https://www.deep-ml.com/problems/76"
   ]
  },
  {
   "cell_type": "markdown",
   "metadata": {},
   "source": [
    "## Problem statement\n",
    "\n",
    "### Task: Implement Cosine Similarity\n",
    "- In this task, you need to implement a function cosine_similarity(v1, v2) that calculates the cosine similarity between two vectors. Cosine similarity measures the cosine of the angle between two vectors, indicating their directional similarity.\n",
    "\n",
    "#### Input:\n",
    "- v1 and v2: Numpy arrays representing the input vectors.\n",
    "#### Output:\n",
    "- A float representing the cosine similarity, rounded to three decimal places.\n",
    "#### Constraints:\n",
    "- Both input vectors must have the same shape.\n",
    "- Input vectors cannot be empty or have zero magnitude.\n",
    "### 🧮 Example\n",
    "\n",
    "**Input:**\n",
    "```\n",
    "import numpy as np\n",
    "\n",
    "v1 = np.array([1, 2, 3])\n",
    "v2 = np.array([2, 4, 6])\n",
    "print(cosine_similarity(v1, v2))\n",
    "```\n",
    "\n",
    "**Output:**\n",
    "```\n",
    "1.0\n",
    "```\n",
    "\n",
    "**Reasoning:**\n",
    "- The cosine similarity between v1 and v2 is 1.0, indicating perfect similarity."
   ]
  },
  {
   "cell_type": "markdown",
   "metadata": {},
   "source": [
    "## Learn the about the topic\n",
    "\n",
    "\n",
    "# Cosine Similarity\n",
    "\n",
    "Cosine similarity measures the cosine of the angle between two vectors. It doesn't consider the magnitude of the vectors but focuses on the angle between them.\n",
    "\n",
    "## Cosine Similarity Formula\n",
    "\n",
    "\\[\n",
    "\\cos(\\theta) = \\frac{\\sum_{i=1}^{p} A_i B_i}{\\sqrt{\\sum_{i=1}^{p} A_i^2} \\sqrt{\\sum_{i=1}^{p} B_i^2}}\n",
    "\\]\n",
    "\n",
    "## Implementation Steps for Cosine Similarity\n",
    "\n",
    "1. **Handle Input:** Ensure input vectors have the same dimensions and handle edge cases (e.g., zero vectors).\n",
    "2. **Dot Product:** Compute \\(\\sum_{i=1}^{p} A_i B_i\\) for the two vectors.\n",
    "3. **Magnitudes:** Compute the L2 norms \\(\\sqrt{\\sum_{i=1}^{p} A_i^2}\\) and \\(\\sqrt{\\sum_{i=1}^{p} B_i^2}\\).\n",
    "4. **Final Result:** Divide the dot product by the product of the magnitudes.\n",
    "\n",
    "## Use Cases\n",
    "\n",
    "- Text and Image Similarity\n",
    "- Recommendation Systems\n",
    "- Query Matching\n",
    "\n",
    "## Pitfalls\n",
    "\n",
    "### Magnitude Blindness\n",
    "\n",
    "**Example:**\n",
    "\n",
    "- \\(\\text{vector1} = (1, 1)\\)\n",
    "- \\(\\text{vector2} = (1000, 1000)\\)\n",
    "\n",
    "Cosine similarity = 1, despite the vastly different magnitudes.\n",
    "\n",
    "### Sparse Data Issues\n",
    "\n",
    "In high-dimensional spaces, where data is often sparse, cosine similarity may become less reliable.\n",
    "\n",
    "### Non-Negative Data Limitation\n",
    "\n",
    "If all values are positive, cosine similarity cannot capture negative relationships or inverse trends.\n",
    "```"
   ]
  },
  {
   "cell_type": "markdown",
   "metadata": {},
   "source": [
    "## Solution"
   ]
  },
  {
   "cell_type": "code",
   "execution_count": 18,
   "metadata": {},
   "outputs": [
    {
     "name": "stdout",
     "output_type": "stream",
     "text": [
      "1.0\n"
     ]
    }
   ],
   "source": [
    "\n",
    "import numpy as np\n",
    "import math\n",
    "\n",
    "def cosine_similarity(v1, v2):\n",
    "\n",
    "\tif v1.shape != v2.shape:\n",
    "\t\treturn 0\n",
    "\t# Implement your code here\n",
    "\tab = np.dot(v1,v2)\n",
    "\ta = math.sqrt(np.dot(v1,v1))\n",
    "\tb = math.sqrt(np.dot(v2,v2))\n",
    "\tif a==0 or b==0:\n",
    "\t\treturn 0\n",
    "\t\n",
    "\tcosine = ab/(a*b)\n",
    "\n",
    "\treturn cosine \n",
    "\n",
    "v1 = np.array([1, 2, 3])\n",
    "v2 = np.array([2, 4, 6])\n",
    "print(cosine_similarity(v1, v2))"
   ]
  },
  {
   "cell_type": "markdown",
   "metadata": {},
   "source": [
    "#### OR"
   ]
  },
  {
   "cell_type": "code",
   "execution_count": 19,
   "metadata": {},
   "outputs": [
    {
     "name": "stdout",
     "output_type": "stream",
     "text": [
      "Cosine Similarity: 0.9999999999999999\n"
     ]
    }
   ],
   "source": [
    "import numpy as np\n",
    "\n",
    "def cosine_similarity(vector1, vector2):\n",
    "    \"\"\"\n",
    "    Compute the cosine similarity between two vectors.\n",
    "\n",
    "    Parameters:\n",
    "    vector1: np.ndarray\n",
    "    vector2: np.ndarray\n",
    "\n",
    "    Returns:\n",
    "    float: Cosine similarity between vector1 and vector2\n",
    "    \"\"\"\n",
    "    # Ensure the vectors have the same dimensions\n",
    "    if vector1.shape != vector2.shape:\n",
    "        raise ValueError(\"Vectors must be the same dimensions\")\n",
    "\n",
    "    # Compute the dot product\n",
    "    dot_product = np.dot(vector1, vector2)\n",
    "\n",
    "    # Compute the magnitudes (L2 norms)\n",
    "    magnitude1 = np.linalg.norm(vector1)\n",
    "    magnitude2 = np.linalg.norm(vector2)\n",
    "\n",
    "    # Handle edge case where either vector is zero\n",
    "    if magnitude1 == 0 or magnitude2 == 0:\n",
    "        return 0.0\n",
    "\n",
    "    # Compute and return the cosine similarity\n",
    "    return dot_product / (magnitude1 * magnitude2)\n",
    "\n",
    "# Example usage\n",
    "vector1 = np.array([1, 1])\n",
    "vector2 = np.array([1000, 1000])\n",
    "\n",
    "similarity = cosine_similarity(vector1, vector2)\n",
    "print(f\"Cosine Similarity: {similarity}\")"
   ]
  },
  {
   "cell_type": "markdown",
   "metadata": {},
   "source": [
    "## QnA"
   ]
  },
  {
   "cell_type": "markdown",
   "metadata": {},
   "source": []
  }
 ],
 "metadata": {
  "kernelspec": {
   "display_name": "base",
   "language": "python",
   "name": "python3"
  },
  "language_info": {
   "codemirror_mode": {
    "name": "ipython",
    "version": 3
   },
   "file_extension": ".py",
   "mimetype": "text/x-python",
   "name": "python",
   "nbconvert_exporter": "python",
   "pygments_lexer": "ipython3",
   "version": "3.12.4"
  }
 },
 "nbformat": 4,
 "nbformat_minor": 2
}
