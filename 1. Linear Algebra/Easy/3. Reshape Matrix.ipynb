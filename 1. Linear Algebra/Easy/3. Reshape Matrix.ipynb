{
 "cells": [
  {
   "cell_type": "markdown",
   "metadata": {},
   "source": [
    "# 3. Reshape Matrix\n",
    "- Deep-ML: https://www.deep-ml.com/problems/3"
   ]
  },
  {
   "cell_type": "markdown",
   "metadata": {},
   "source": [
    "## Problem statement\n",
    "\n",
    "- Write a Python function that reshapes a given matrix into a specified shape. if it cant be reshaped return back an empty list '[ ]'\n",
    "\n",
    "### 🧮 Example\n",
    "\n",
    "**Input:**\n",
    "```\n",
    "a = [[1,2,3,4],[5,6,7,8]], new_shape = (4, 2)\n",
    "```\n",
    "\n",
    "**Output:**\n",
    "```\n",
    "[[1, 2], [3, 4], [5, 6], [7, 8]]\n",
    "```\n",
    "\n",
    "**Reasoning:**\n",
    "- The given matrix is reshaped from 2x4 to 4x2.\n",
    "```"
   ]
  },
  {
   "cell_type": "markdown",
   "metadata": {},
   "source": [
    "## Learn the about the topic\n",
    "\n",
    "## 🔄 Reshaping a Matrix\n",
    "\n",
    "Matrix reshaping involves changing the **shape** of a matrix **without altering its data**. This is essential in many machine learning tasks where input data must be in a specific format.\n",
    "\n",
    "---\n",
    "\n",
    "### 🧮 Original Matrix `M`\n",
    "\n",
    "```\n",
    "M = [ [1, 2],\n",
    "      [3, 4],\n",
    "      [5, 6],\n",
    "      [7, 8] ]\n",
    "```\n",
    "\n",
    "This matrix has a shape of **(4, 2)** — 4 rows and 2 columns.\n",
    "\n",
    "---\n",
    "\n",
    "### 🔁 Reshaped Matrix `M′` with shape **(2, 4)**\n",
    "\n",
    "If we reshape it:\n",
    "\n",
    "```\n",
    "M′ = [ [1, 2, 3, 4],\n",
    "       [5, 6, 7, 8] ]\n",
    "```\n",
    "\n",
    "Now, the shape is **(2, 4)** — 2 rows and 4 columns.\n",
    "\n",
    "---\n",
    "\n",
    "### ⚠️ Important Note\n",
    "\n",
    "- The **total number of elements** must **remain the same** before and after reshaping.\n",
    "- For example, `4 x 2 = 8` and `2 x 4 = 8`, so the reshape is valid.\n",
    "\n",
    "---\n"
   ]
  },
  {
   "cell_type": "markdown",
   "metadata": {},
   "source": [
    "## Solution"
   ]
  },
  {
   "cell_type": "code",
   "execution_count": 12,
   "metadata": {},
   "outputs": [
    {
     "data": {
      "text/plain": [
       "[[1, 2], [3, 4], [5, 6], [7, 8]]"
      ]
     },
     "execution_count": 12,
     "metadata": {},
     "output_type": "execute_result"
    }
   ],
   "source": [
    "import numpy as np\n",
    "\n",
    "def reshape_matrix(a: list[list[int|float]], new_shape: tuple[int, int]) -> list[list[int|float]]:\n",
    "\t#Write your code here and return a python list after reshaping by using numpy's tolist() method\n",
    "    \n",
    "    a= np.array(a)\n",
    "\n",
    "    if a.size != new_shape[0]*new_shape[1]:\n",
    "        return []\n",
    "    reshaped_matrix = a.reshape(new_shape).tolist()\n",
    "    return reshaped_matrix\n",
    "\n",
    "a = [[1,2,3,4],[5,6,7,8]]\n",
    "new_shape = (4, 2)\n",
    "\n",
    "output = reshape_matrix(a, new_shape)\n",
    "output"
   ]
  },
  {
   "cell_type": "markdown",
   "metadata": {},
   "source": [
    "## QnA\n",
    "\n",
    "### 1. when repashing is not possible?\n",
    "- when m1*n1 != m2*n2\n",
    "- where m, n are dimention of the matrix 1 & 2"
   ]
  }
 ],
 "metadata": {
  "kernelspec": {
   "display_name": "venv",
   "language": "python",
   "name": "python3"
  },
  "language_info": {
   "codemirror_mode": {
    "name": "ipython",
    "version": 3
   },
   "file_extension": ".py",
   "mimetype": "text/x-python",
   "name": "python",
   "nbconvert_exporter": "python",
   "pygments_lexer": "ipython3",
   "version": "3.11.11"
  }
 },
 "nbformat": 4,
 "nbformat_minor": 2
}
