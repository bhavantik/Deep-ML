{
 "cells": [
  {
   "cell_type": "markdown",
   "metadata": {},
   "source": [
    "# 4. Calculate Mean by Row or Column\n",
    "- Deep-ML: https://www.deep-ml.com/problems/4"
   ]
  },
  {
   "cell_type": "markdown",
   "metadata": {},
   "source": [
    "## Problem statement\n",
    "\n",
    "- Write a Python function that calculates the mean of a matrix either by row or by column, based on a given mode. The function should take a matrix (list of lists) and a mode ('row' or 'column') as input and return a list of means according to the specified mode.\n",
    "\n",
    "### 🧮 Example\n",
    "\n",
    "**Input:**\n",
    "```\n",
    "matrix = [[1, 2, 3], [4, 5, 6], [7, 8, 9]], mode = 'column'\n",
    "```\n",
    "\n",
    "**Output:**\n",
    "```\n",
    "[4.0, 5.0, 6.0]\n",
    "```\n",
    "\n",
    "**Reasoning:**\n",
    "- Calculating the mean of each column results in [(1+4+7)/3, (2+5+8)/3, (3+6+9)/3]."
   ]
  },
  {
   "cell_type": "markdown",
   "metadata": {},
   "source": [
    "## Learn the about the topic\n",
    "\n",
    "\n",
    "# Calculate Mean by Row or Column\n",
    "\n",
    "Calculating the mean of a matrix by row or column involves averaging the elements across the specified dimension. This operation provides insights into the distribution of values within the dataset, useful for data normalization and scaling.\n",
    "\n",
    "## Row Mean\n",
    "\n",
    "The mean of a row is computed by summing all elements in the row and dividing by the number of elements. For row *i*, the mean is:\n",
    "\n",
    "$$\n",
    "\\mu_{\\text{row } i} = \\frac{1}{n} \\sum_{j=1}^{n} a_{ij}\n",
    "$$\n",
    "\n",
    "Where:\n",
    "- \\( a_{ij} \\) is the matrix element in the *i-th* row and *j-th* column  \n",
    "- \\( n \\) is the total number of columns\n",
    "\n",
    "## Column Mean\n",
    "\n",
    "Similarly, the mean of a column is found by summing all elements in the column and dividing by the number of elements. For column *j*, the mean is:\n",
    "\n",
    "$$\n",
    "\\mu_{\\text{column } j} = \\frac{1}{m} \\sum_{i=1}^{m} a_{ij}\n",
    "$$\n",
    "\n",
    "Where:\n",
    "- \\( m \\) is the total number of rows\n",
    "\n",
    "---\n",
    "\n",
    "This mathematical formulation helps in understanding how data is aggregated across different dimensions, a critical step in various data preprocessing techniques.\n"
   ]
  },
  {
   "cell_type": "markdown",
   "metadata": {},
   "source": [
    "## Solution"
   ]
  },
  {
   "cell_type": "code",
   "execution_count": 9,
   "metadata": {},
   "outputs": [
    {
     "data": {
      "text/plain": [
       "[2.5, 6.5]"
      ]
     },
     "execution_count": 9,
     "metadata": {},
     "output_type": "execute_result"
    }
   ],
   "source": [
    "def calculate_matrix_mean(matrix: list[list[float]], mode: str) -> list[float]:\n",
    "    if mode == \"column\":\n",
    "        means = [\n",
    "                sum(matrix[row][col] for row in range(len(matrix)))/len(matrix) \n",
    "                for col in range(len(matrix[0]))\n",
    "                ]\n",
    "    else:\n",
    "        means = [\n",
    "                sum(matrix[row][col] for col in range(len(matrix[0])))/len(matrix[0])\n",
    "                 for row in range(len(matrix))\n",
    "                 ]\n",
    "    return means\n",
    "\n",
    "a = [[1,2,3,4],[5,6,7,8]]\n",
    "\n",
    "output = calculate_matrix_mean(a, \"row\")\n",
    "output"
   ]
  },
  {
   "cell_type": "markdown",
   "metadata": {},
   "source": [
    "## QnA"
   ]
  }
 ],
 "metadata": {
  "kernelspec": {
   "display_name": "venv",
   "language": "python",
   "name": "python3"
  },
  "language_info": {
   "codemirror_mode": {
    "name": "ipython",
    "version": 3
   },
   "file_extension": ".py",
   "mimetype": "text/x-python",
   "name": "python",
   "nbconvert_exporter": "python",
   "pygments_lexer": "ipython3",
   "version": "3.11.11"
  }
 },
 "nbformat": 4,
 "nbformat_minor": 2
}
