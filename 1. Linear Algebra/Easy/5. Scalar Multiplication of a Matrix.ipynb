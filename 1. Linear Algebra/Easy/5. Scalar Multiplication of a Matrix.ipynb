{
 "cells": [
  {
   "cell_type": "markdown",
   "metadata": {},
   "source": [
    "# 5. Scalar Multiplication of a Matrix\n",
    "- Deep-ML: https://www.deep-ml.com/problems/5"
   ]
  },
  {
   "cell_type": "markdown",
   "metadata": {},
   "source": [
    "## Problem statement\n",
    "\n",
    "- Write a Python function that multiplies a matrix by a scalar and returns the result.\n",
    "\n",
    "### 🧮 Example\n",
    "\n",
    "**Input:**\n",
    "```\n",
    "matrix = [[1, 2], [3, 4]], scalar = 2\n",
    "```\n",
    "\n",
    "**Output:**\n",
    "```\n",
    "[[2, 4], [6, 8]]\n",
    "```\n",
    "\n",
    "**Reasoning:**\n",
    "- Each element of the matrix is multiplied by the scalar."
   ]
  },
  {
   "cell_type": "markdown",
   "metadata": {},
   "source": [
    "## Learn the about the topic\n",
    "\n",
    "## Scalar Multiplication of a Matrix\n",
    "\n",
    "When a matrix **A** is multiplied by a scalar **k**, the operation is defined as multiplying **each element** of **A** by **k**.\n",
    "\n",
    "Given a matrix **A**:\n",
    "\n",
    "$$\n",
    "A = \\begin{pmatrix}\n",
    "a_{11} & a_{12} \\\\\n",
    "a_{21} & a_{22}\n",
    "\\end{pmatrix}\n",
    "$$\n",
    "\n",
    "And a scalar **k**, the result of the scalar multiplication **kA** is:\n",
    "\n",
    "$$\n",
    "kA = \\begin{pmatrix}\n",
    "k \\cdot a_{11} & k \\cdot a_{12} \\\\\n",
    "k \\cdot a_{21} & k \\cdot a_{22}\n",
    "\\end{pmatrix}\n",
    "$$\n",
    "\n",
    "This operation **scales** the matrix by **k** without changing its **dimensions** or the **relative proportions** of its elements.\n"
   ]
  },
  {
   "cell_type": "markdown",
   "metadata": {},
   "source": [
    "## Solution"
   ]
  },
  {
   "cell_type": "code",
   "execution_count": 2,
   "metadata": {},
   "outputs": [
    {
     "data": {
      "text/plain": [
       "[[2, 4, 6, 8], [10, 12, 14, 16]]"
      ]
     },
     "execution_count": 2,
     "metadata": {},
     "output_type": "execute_result"
    }
   ],
   "source": [
    "# import numpy as nsp\n",
    "def scalar_multiply(matrix: list[list[int|float]], scalar: int|float) -> list[list[int|float]]:\n",
    "    return [[scalar*element for element in array] for array in matrix]\n",
    "\n",
    "# Sol-2\n",
    "# matrix = np.array(matrix)\n",
    "# result = scalar * matrix\n",
    "# return result\n",
    "\n",
    "a = [[1,2,3,4],[5,6,7,8]]\n",
    "scalar = 2\n",
    "\n",
    "output = scalar_multiply(a, scalar)\n",
    "output"
   ]
  },
  {
   "cell_type": "markdown",
   "metadata": {},
   "source": [
    "## QnA"
   ]
  }
 ],
 "metadata": {
  "kernelspec": {
   "display_name": "venv",
   "language": "python",
   "name": "python3"
  },
  "language_info": {
   "codemirror_mode": {
    "name": "ipython",
    "version": 3
   },
   "file_extension": ".py",
   "mimetype": "text/x-python",
   "name": "python",
   "nbconvert_exporter": "python",
   "pygments_lexer": "ipython3",
   "version": "3.11.11"
  }
 },
 "nbformat": 4,
 "nbformat_minor": 2
}
