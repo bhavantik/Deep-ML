{
 "cells": [
  {
   "cell_type": "markdown",
   "metadata": {},
   "source": [
    "# 1. Matrix-Vector Dot Product\n",
    "- Deep-ML: https://www.deep-ml.com/problems/1"
   ]
  },
  {
   "cell_type": "markdown",
   "metadata": {},
   "source": [
    "## Problem statement\n",
    "\n",
    "- Write a Python function that computes the dot product of a matrix and a vector. The function should return a list representing the resulting vector if the operation is valid, or -1 if the matrix and vector dimensions are incompatible. A matrix (a list of lists) can be dotted with a vector (a list) only if the number of columns in the matrix equals the length of the vector. For example, an n x m matrix requires a vector of length m.\n",
    "\n",
    "\n",
    "### 🧮 Example\n",
    "\n",
    "**Input:**\n",
    "```\n",
    "a = [[1, 2], [2, 4]]\n",
    "b = [1, 2]\n",
    "```\n",
    "\n",
    "**Output:**\n",
    "```\n",
    "[5, 10]\n",
    "```\n",
    "\n",
    "**Reasoning:**\n",
    "- Row 1: `(1 * 1) + (2 * 2)` = `1 + 4` = `5`\n",
    "- Row 2: `(2 * 1) + (4 * 2)` = `2 + 8` = `10`\n",
    "```"
   ]
  },
  {
   "cell_type": "markdown",
   "metadata": {},
   "source": [
    "## Learn the about the topic\n",
    "\n",
    "```markdown\n",
    "# 📐 Matrix-Vector Dot Product\n",
    "\n",
    "### 🧾 Problem Statement\n",
    "\n",
    "Given a matrix **A** and a vector **v**, compute the dot product **A · v**.\n",
    "\n",
    "---\n",
    "\n",
    "### 📊 Matrix A (n x m):\n",
    "```\n",
    "A = [\n",
    "  [a11, a12, ..., a1m],\n",
    "  [a21, a22, ..., a2m],\n",
    "  ...\n",
    "  [an1, an2, ..., anm]\n",
    "]\n",
    "```\n",
    "\n",
    "### 📈 Vector v (length m):\n",
    "```\n",
    "v = [v1, v2, ..., vm]\n",
    "```\n",
    "\n",
    "---\n",
    "\n",
    "### 📤 Output:\n",
    "The result of `A · v` is a vector of length `n`:\n",
    "```\n",
    "[\n",
    "  a11*v1 + a12*v2 + ... + a1m*vm,\n",
    "  a21*v1 + a22*v2 + ... + a2m*vm,\n",
    "  ...\n",
    "  an1*v1 + an2*v2 + ... + anm*vm\n",
    "]\n",
    "```\n",
    "\n",
    "---\n",
    "\n",
    "### ❗ Key Requirement:\n",
    "- The number of **columns in matrix A (m)** must be equal to the **length of vector v (m)**.\n",
    "- If this condition is **not met**, return `-1` as the operation is **undefined**.\n",
    "\n",
    "---\n",
    "\n",
    "### ✅ Example:\n",
    "\n",
    "**Input:**\n",
    "```python\n",
    "A = [[1, 2], [2, 4]]\n",
    "v = [1, 2]\n",
    "```\n",
    "\n",
    "**Output:**\n",
    "```python\n",
    "[5, 10]\n",
    "```\n",
    "\n",
    "**Reasoning:**\n",
    "- Row 1: `(1 * 1) + (2 * 2)` = `1 + 4` = `5`\n",
    "- Row 2: `(2 * 1) + (4 * 2)` = `2 + 8` = `10`\n",
    "\n"
   ]
  },
  {
   "cell_type": "markdown",
   "metadata": {},
   "source": [
    "## Solution"
   ]
  },
  {
   "cell_type": "code",
   "execution_count": 1,
   "metadata": {},
   "outputs": [
    {
     "data": {
      "text/plain": [
       "[5, 10]"
      ]
     },
     "execution_count": 1,
     "metadata": {},
     "output_type": "execute_result"
    }
   ],
   "source": [
    "def matrix_dot_vector(a: list[list[int|float]], b: list[int|float]) -> list[int|float]:\n",
    "\t# Return a list where each element is the dot product of a row of 'a' with 'b'.\n",
    "\t# If the number of columns in 'a' does not match the length of 'b', return -1.\n",
    "    n,m = len(a), len(a[0])\n",
    "    if not a or len(a[0]) != len(b) :\n",
    "        return -1\n",
    "\n",
    "    return [sum(row[i]*b[i] for i in range(len(b))) for row in a]\n",
    "    \n",
    "\n",
    "A = [[1, 2], [2, 4]]\n",
    "v = [1, 2]\n",
    "dot_product = matrix_dot_vector(A,v)\n",
    "dot_product"
   ]
  },
  {
   "cell_type": "markdown",
   "metadata": {},
   "source": [
    "## QnA\n",
    "\n",
    "### 1. What is a Vector & Scalar?\n",
    "\n",
    "- **Scalar**: A scalar is a single number (just a magnitude).  \n",
    "  Example: `5`, `-3.2`, `0`  \n",
    "  It's just quantity, with **no direction**.\n",
    "\n",
    "- **Vector**: A vector has both **magnitude and direction**. It is often represented as an array of numbers.  \n",
    "  Example: `[2, 5]`, `[3, -1, 4]`  \n",
    "  Each number in the vector represents a component in a specific direction.\n",
    "\n",
    "----\n",
    "\n",
    "### 2. Types of Product: Dot & Cross\n",
    "\n",
    "- **Dot Product (Scalar Product)**:\n",
    "  - Takes two vectors.\n",
    "  - Returns a **scalar**.\n",
    "  - Measures how much one vector goes in the direction of another.\n",
    "  - Formula:  \n",
    "    For vectors `a = [a1, a2]` and `b = [b1, b2]`  \n",
    "    → `a · b = a1*b1 + a2*b2`\n",
    "\n",
    "- **Cross Product (Vector Product)**:\n",
    "  - Applies to 3D vectors.\n",
    "  - Returns a **vector** perpendicular to both input vectors.\n",
    "  - Only defined in 3D.\n",
    "\n",
    "---\n",
    "\n",
    "### 3. What is a Matrix?\n",
    "\n",
    "- A **matrix** is a 2D array of numbers arranged in rows and columns.  \n",
    "  Example:\n",
    "  ```\n",
    "  A = [\n",
    "    [1, 2, 3],\n",
    "    [4, 5, 6]\n",
    "  ]\n",
    "  ```\n",
    "  This is a **2x3 matrix** (2 rows and 3 columns).\n",
    "\n",
    "- Matrices are used in:\n",
    "  - Solving systems of equations\n",
    "  - Transformations in graphics\n",
    "  - Machine learning and data science\n",
    "  - Representing datasets\n"
   ]
  }
 ],
 "metadata": {
  "kernelspec": {
   "display_name": "venv",
   "language": "python",
   "name": "python3"
  },
  "language_info": {
   "codemirror_mode": {
    "name": "ipython",
    "version": 3
   },
   "file_extension": ".py",
   "mimetype": "text/x-python",
   "name": "python",
   "nbconvert_exporter": "python",
   "pygments_lexer": "ipython3",
   "version": "3.11.11"
  }
 },
 "nbformat": 4,
 "nbformat_minor": 2
}
