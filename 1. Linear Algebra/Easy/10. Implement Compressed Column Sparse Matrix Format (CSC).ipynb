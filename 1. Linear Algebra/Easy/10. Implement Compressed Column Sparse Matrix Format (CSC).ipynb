{
 "cells": [
  {
   "cell_type": "markdown",
   "metadata": {},
   "source": [
    "# 10. Implement Compressed Column Sparse Matrix Format (CSC)\n",
    "- Deep-ML: https://www.deep-ml.com/problems/67"
   ]
  },
  {
   "cell_type": "markdown",
   "metadata": {},
   "source": [
    "## Problem statement\n",
    "\n",
    "---\n",
    "\n",
    "## Problem Statement\n",
    "#### Task: Create a Compressed Column Sparse Matrix Representation\n",
    "- Your task is to implement a function that converts a dense matrix into its Compressed Column Sparse (CSC) representation. The CSC format stores only non-zero elements of the matrix and is efficient for matrices with a high number of zero elements.\n",
    "\n",
    "- Write a function compressed_col_sparse_matrix(dense_matrix) that takes in a two-dimensional list dense_matrix and returns a tuple of three lists:\n",
    "\n",
    "    - values: List of non-zero elements, stored in column-major order.\n",
    "    - row indices: List of row indices corresponding to each value in the values array.\n",
    "    - column pointer: List that indicates the starting index of each column in the values array.\n",
    "\n",
    "## Example\n",
    "\n",
    "### Input:\n",
    "```\n",
    "dense_matrix = [\n",
    "    [0, 0, 3, 0],\n",
    "    [1, 0, 0, 4],\n",
    "    [0, 2, 0, 0]\n",
    "]\n",
    "\n",
    "vals, row_idx, col_ptr = compressed_col_sparse_matrix(dense_matrix)\n",
    "```\n",
    "\n",
    "### Output:\n",
    "```\n",
    "[1, 2, 3, 4] [1, 2, 0, 1] [0, 1, 2, 3, 4]\n",
    "```\n",
    "\n",
    "---\n",
    "\n",
    "## Reasoning\n",
    "\n",
    "- The dense matrix is converted to CSC format with the values array containing non-zero elements, row indices array storing the corresponding row index, and column pointer array indicating the start of each column in the values array.\n",
    "\n",
    "\n",
    "---\n"
   ]
  },
  {
   "cell_type": "markdown",
   "metadata": {},
   "source": [
    "## Learn the about the topic\n",
    "\n",
    "# Understanding the Compressed Row Sparse Matrix (CSR) Format\n",
    "\n",
    "The **Compressed Row Sparse (CSR)** format is a data-efficient representation of sparse matrices, where most of the elements are zero. This format is particularly useful in large-scale scientific computing and machine learning applications, where memory efficiency is critical.\n",
    "\n",
    "---\n",
    "\n",
    "## 📘 Concepts\n",
    "\n",
    "A **sparse matrix** is a matrix that contains a large number of zero elements. Storing such matrices in their full form can be inefficient, both in terms of **memory** and **computational resources**.\n",
    "\n",
    "The **CSR format** addresses this by storing only the non-zero elements and their positions in the matrix using three one-dimensional arrays:\n",
    "\n",
    "- **Values array**: Contains all the non-zero elements of the matrix, stored row by row.\n",
    "- **Column indices array**: Stores the column index corresponding to each value in the values array.\n",
    "- **Row pointer array**: Stores the cumulative number of non-zero elements in each row. This points to the start of each row in the values/column indices array.\n",
    "\n",
    "---\n",
    "\n",
    "## 🧩 Structure\n",
    "\n",
    "Given a matrix:\n",
    "\n",
    "[ [1, 0, 0, 0], [0, 2, 0, 0], [3, 0, 4, 0], [1, 0, 0, 5] ]\n",
    "\n",
    "\n",
    "### CSR Representation:\n",
    "\n",
    "- **Values array**: `[1, 2, 3, 4, 1, 5]`\n",
    "- **Column indices array**: `[0, 1, 0, 2, 0, 3]`\n",
    "- **Row pointer array**: `[0, 1, 2, 4, 6]`\n",
    "\n",
    "### Explanation:\n",
    "\n",
    "- The **values array** holds the non-zero elements in the matrix, row by row.\n",
    "- The **column indices array** indicates the corresponding column index for each value.\n",
    "- The **row pointer array** indicates where each row starts in the values array:\n",
    "  - Row 1 starts at index `0`\n",
    "  - Row 2 starts at index `1`\n",
    "  - Row 3 starts at index `2`\n",
    "  - Row 4 starts at index `4`\n",
    "\n",
    "---\n",
    "\n",
    "## 💡 Applications\n",
    "\n",
    "The CSR format is widely used in high-performance computing tasks such as:\n",
    "\n",
    "- ✅ Finite Element Analysis (FEA)\n",
    "- ✅ Solving large sparse linear systems (e.g., in numerical simulations)\n",
    "- ✅ Machine Learning algorithms (e.g., Support Vector Machines with sparse input)\n",
    "- ✅ Graph-based algorithms (e.g., adjacency matrices for graphs)\n",
    "\n",
    "By focusing only on **non-zero elements**, the CSR format significantly improves:\n",
    "- Memory efficiency\n",
    "- Speed of matrix operations (like matrix-vector multiplications)\n",
    "\n",
    "---\n"
   ]
  },
  {
   "cell_type": "markdown",
   "metadata": {},
   "source": [
    "## Solution"
   ]
  },
  {
   "cell_type": "code",
   "execution_count": 13,
   "metadata": {},
   "outputs": [
    {
     "name": "stdout",
     "output_type": "stream",
     "text": [
      "[1, 2, 3, 4] [1, 2, 0, 1] [0, 1, 2, 3, 4]\n"
     ]
    }
   ],
   "source": [
    "def compressed_col_sparse_matrix(dense_matrix):\n",
    "    \"\"\"\n",
    "\tConvert a dense matrix into its Compressed Column Sparse (CSC) representation.\n",
    "\n",
    "\t:param dense_matrix: List of lists representing the dense matrix\n",
    "\t:return: Tuple of (values, row indices, column pointer)\n",
    "\t\"\"\"\n",
    "    values = []\n",
    "    row_idx = []\n",
    "    col_idx = [0]\n",
    "    \n",
    "\n",
    "    for col in range(len(dense_matrix[0])):\n",
    "        for row in range(len(dense_matrix)):\n",
    "            val = dense_matrix[row][col]\n",
    "            \n",
    "            if val != 0:\n",
    "                values.append(val)\n",
    "                row_idx.append(row)\n",
    "        col_idx.append(len(values))\n",
    "\n",
    "    return values,row_idx, col_idx\n",
    "\n",
    "dense_matrix = [\n",
    "    [0, 0, 3, 0],\n",
    "    [1, 0, 0, 4],\n",
    "    [0, 2, 0, 0]\n",
    "]\n",
    "\n",
    "vals, row_idx, col_ptr = compressed_col_sparse_matrix(dense_matrix)\n",
    "print(vals, row_idx, col_ptr )"
   ]
  },
  {
   "cell_type": "markdown",
   "metadata": {},
   "source": [
    "## QnA\n"
   ]
  },
  {
   "cell_type": "markdown",
   "metadata": {},
   "source": [
    "\n"
   ]
  }
 ],
 "metadata": {
  "kernelspec": {
   "display_name": "venv",
   "language": "python",
   "name": "python3"
  },
  "language_info": {
   "codemirror_mode": {
    "name": "ipython",
    "version": 3
   },
   "file_extension": ".py",
   "mimetype": "text/x-python",
   "name": "python",
   "nbconvert_exporter": "python",
   "pygments_lexer": "ipython3",
   "version": "3.11.11"
  }
 },
 "nbformat": 4,
 "nbformat_minor": 2
}
