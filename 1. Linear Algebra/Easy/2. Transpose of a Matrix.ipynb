{
 "cells": [
  {
   "cell_type": "markdown",
   "metadata": {},
   "source": [
    "# 2. Transpose of a Matrix\n",
    "- Deep-ML: https://www.deep-ml.com/problems/2"
   ]
  },
  {
   "cell_type": "markdown",
   "metadata": {},
   "source": [
    "## Problem statement\n",
    "\n",
    "- Write a Python function that computes the transpose of a given matrix.\n",
    "\n",
    "### 🧮 Example\n",
    "\n",
    "**Input:**\n",
    "```\n",
    "a = [[1,2,3],[4,5,6]]\n",
    "```\n",
    "\n",
    "**Output:**\n",
    "```\n",
    "[[1,4],[2,5],[3,6]]\n",
    "```\n",
    "\n",
    "**Reasoning:**\n",
    "- The transpose of a matrix is obtained by flipping rows and columns.\n",
    "```"
   ]
  },
  {
   "cell_type": "markdown",
   "metadata": {},
   "source": [
    "## Learn the about the topic\n"
   ]
  },
  {
   "cell_type": "markdown",
   "metadata": {},
   "source": [
    "## Solution"
   ]
  },
  {
   "cell_type": "code",
   "execution_count": 1,
   "metadata": {},
   "outputs": [
    {
     "data": {
      "text/plain": [
       "[[1, 2], [2, 4], [3, 6]]"
      ]
     },
     "execution_count": 1,
     "metadata": {},
     "output_type": "execute_result"
    }
   ],
   "source": [
    "def transpose_matrix(a: list[list[int|float]]) -> list[list[int|float]]:\n",
    "\n",
    "\tb = [[a[col][row] for col in range(len(a))] for row in range(len(a[0]))]\n",
    "\n",
    "\treturn b\n",
    "\n",
    "A = [[1, 2, 3], [2, 4, 6]]\n",
    "output = transpose_matrix(A)\n",
    "output"
   ]
  },
  {
   "cell_type": "markdown",
   "metadata": {},
   "source": [
    "## QnA"
   ]
  }
 ],
 "metadata": {
  "kernelspec": {
   "display_name": "venv",
   "language": "python",
   "name": "python3"
  },
  "language_info": {
   "codemirror_mode": {
    "name": "ipython",
    "version": 3
   },
   "file_extension": ".py",
   "mimetype": "text/x-python",
   "name": "python",
   "nbconvert_exporter": "python",
   "pygments_lexer": "ipython3",
   "version": "3.11.11"
  }
 },
 "nbformat": 4,
 "nbformat_minor": 2
}
