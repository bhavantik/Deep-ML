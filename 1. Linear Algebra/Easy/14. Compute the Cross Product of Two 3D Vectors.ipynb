{
 "cells": [
  {
   "cell_type": "markdown",
   "metadata": {},
   "source": [
    "# 14. Compute the Cross Product of Two 3D Vectors\n",
    "- Deep-ML: https://www.deep-ml.com/problems/118"
   ]
  },
  {
   "cell_type": "markdown",
   "metadata": {},
   "source": [
    "## Problem statement\n",
    "\n",
    "- Implement a function to compute the cross product of two 3-dimensional vectors. The cross product of two vectors results in a third vector that is perpendicular to both and follows the right-hand rule. This concept is fundamental in physics, engineering, and 3D graphics.\n",
    "\n",
    "### 🧮 Example\n",
    "\n",
    "**Input:**\n",
    "```\n",
    "cross_product([1, 0, 0], [0, 1, 0])\n",
    "```\n",
    "\n",
    "**Output:**\n",
    "```\n",
    "[0, 0, 1]\n",
    "```\n",
    "\n",
    "**Reasoning:**\n",
    "- The cross product of two orthogonal unit vectors [1, 0, 0] and [0, 1, 0] is [0, 0, 1], pointing in the positive z-direction as per the right-hand rule."
   ]
  },
  {
   "cell_type": "markdown",
   "metadata": {},
   "source": [
    "## Learn the about the topic\n",
    "\n",
    "<p>Below is the text formatted for Jupyter Notebook markdown, ensuring that all formulas are clearly visible using LaTeX:</p>\n",
    "\n",
    "<pre><code class=\"language-markdown\"># Understanding the Cross Product\n",
    "\n",
    "The cross product of two vectors \\(\\mathbf{a}\\) and \\(\\mathbf{b}\\) in 3D space is a vector that is perpendicular to both \\(\\mathbf{a}\\) and \\(\\mathbf{b}\\).\n",
    "\n",
    "## Properties\n",
    "\n",
    "- Defined only in 3 dimensions.\n",
    "- The result \\(\\mathbf{c} = \\mathbf{a} \\times \\mathbf{b}\\) is perpendicular to both \\(\\mathbf{a}\\) and \\(\\mathbf{b}\\).\n",
    "- Follows the right-hand rule.\n",
    "\n",
    "## Mathematical Formula\n",
    "\n",
    "Given:\n",
    "\n",
    "\\[\n",
    "\\mathbf{a} = [a_1, a_2, a_3]\n",
    "\\]\n",
    "\n",
    "\\[\n",
    "\\mathbf{b} = [b_1, b_2, b_3]\n",
    "\\]\n",
    "\n",
    "The cross product is:\n",
    "\n",
    "\\[\n",
    "\\mathbf{a} \\times \\mathbf{b} = [a_2b_3 - a_3b_2, \\ a_3b_1 - a_1b_3, \\ a_1b_2 - a_2b_1]\n",
    "\\]\n",
    "\n",
    "## Use Cases\n",
    "\n",
    "- Calculating normals in 3D graphics.\n",
    "- Determining torque and angular momentum in physics.\n",
    "- Verifying orthogonality in machine learning geometry.\n",
    "\n",
    "## Example\n",
    "\n",
    "For \\(\\mathbf{a} = [1, 0, 0]\\) and \\(\\mathbf{b} = [0, 1, 0]\\):\n",
    "\n",
    "\\[\n",
    "\\mathbf{a} \\times \\mathbf{b} = [0, 0, 1]\n",
    "\\]\n",
    "\n",
    "The result points in the \\(z\\)-axis direction, confirming perpendicularity to both \\(\\mathbf{a}\\) and \\(\\mathbf{b}\\).\n",
    "</code></pre>\n",
    "\n",
    "<p>This format uses LaTeX syntax for mathematical formulas, ensuring that all mathematical expressions are clearly visible and well-formatted in Jupyter Notebook markdown.</p>"
   ]
  },
  {
   "cell_type": "markdown",
   "metadata": {},
   "source": [
    "## Solution"
   ]
  },
  {
   "cell_type": "code",
   "execution_count": 4,
   "metadata": {},
   "outputs": [
    {
     "name": "stdout",
     "output_type": "stream",
     "text": [
      "[-3  6 -3]\n"
     ]
    }
   ],
   "source": [
    "import numpy as np\n",
    "\n",
    "def cross_product(a, b):\n",
    "    # Your code here\n",
    "    if a.shape[0]!=3 or b.shape[0]!=3:\n",
    "        return None\n",
    "    return np.cross(a,b)\n",
    "\t\n",
    "vec1 = np.array([1, 2, 3])\n",
    "vec2 = np.array([4, 5, 6])\n",
    "\n",
    "print(cross_product(vec1, vec2))"
   ]
  },
  {
   "cell_type": "markdown",
   "metadata": {},
   "source": [
    "## QnA"
   ]
  },
  {
   "cell_type": "markdown",
   "metadata": {},
   "source": [
    "### What is Right hand rule?\n",
    "\n",
    "The right-hand rule is a convention used to determine the direction of the resulting vector from the cross product of two vectors in three-dimensional space. This rule is commonly used in physics and engineering to find the orientation of vectors, particularly in contexts involving rotational forces, magnetic fields, and angular momentum.\n",
    "\n",
    "### How the Right-Hand Rule Works:\n",
    "\n",
    "1. **Orientation**: Start by orienting your right hand such that your fingers point in the direction of the first vector (\\(\\mathbf{a}\\)).\n",
    "\n",
    "2. **Rotation**: Rotate your fingers towards the direction of the second vector (\\(\\mathbf{b}\\)).\n",
    "\n",
    "3. **Thumb Direction**: Your thumb, when extended, will point in the direction of the cross product vector (\\(\\mathbf{a} \\times \\mathbf{b}\\)).\n",
    "\n",
    "### Visual Explanation:\n",
    "\n",
    "- Imagine \\(\\mathbf{a}\\) and \\(\\mathbf{b}\\) as two arrows in space.\n",
    "- Position your right hand so that it follows the first arrow (\\(\\mathbf{a}\\)).\n",
    "- Rotate your fingers towards the second arrow (\\(\\mathbf{b}\\)).\n",
    "- Your thumb will naturally extend perpendicular to both \\(\\mathbf{a}\\) and \\(\\mathbf{b}\\), indicating the direction of the cross product vector.\n",
    "\n",
    "### Applications:\n",
    "\n",
    "- **Magnetic Fields**: In electromagnetism, the right-hand rule helps determine the direction of the magnetic field around a current-carrying wire.\n",
    "  \n",
    "- **Torque and Angular Momentum**: When calculating torque or angular momentum, the right-hand rule helps determine the direction of rotation or spin.\n",
    "\n",
    "- **3D Graphics and Robotics**: Used to determine normals or orientations in 3D space, crucial for rendering and movement calculations.\n",
    "\n",
    "The right-hand rule is an intuitive way to visualize vector interactions in three dimensions and is essential for understanding how vector directions relate in physics and engineering contexts."
   ]
  }
 ],
 "metadata": {
  "kernelspec": {
   "display_name": "base",
   "language": "python",
   "name": "python3"
  },
  "language_info": {
   "codemirror_mode": {
    "name": "ipython",
    "version": 3
   },
   "file_extension": ".py",
   "mimetype": "text/x-python",
   "name": "python",
   "nbconvert_exporter": "python",
   "pygments_lexer": "ipython3",
   "version": "3.12.4"
  }
 },
 "nbformat": 4,
 "nbformat_minor": 2
}
